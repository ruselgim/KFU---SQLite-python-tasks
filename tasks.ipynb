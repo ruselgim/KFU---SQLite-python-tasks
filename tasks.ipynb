{
  "cells": [
    {
      "cell_type": "code",
      "execution_count": 3,
      "metadata": {
        "id": "jkgH9fiyOTrr"
      },
      "outputs": [],
      "source": [
        "import sqlite3;\n",
        "\n",
        "con = sqlite3.connect(\"first.db\")\n",
        "cursor = con.cursor()\n",
        "\n",
        "cursor.execute('''CREATE TABLE IF NOT EXISTS people (\n",
        "                    id INTEGER PRIMARY KEY AUTOINCREMENT,\n",
        "                    name TEXT,\n",
        "                    age INTEGER,\n",
        "                    salary INTEGER\n",
        "                )''')\n",
        "\n",
        "con.commit()"
      ]
    },
    {
      "cell_type": "code",
      "execution_count": 4,
      "metadata": {
        "id": "tD6SywrvPkr4"
      },
      "outputs": [],
      "source": [
        "import sqlite3;\n",
        "\n",
        "con = sqlite3.connect(\"first.db\")\n",
        "cursor = con.cursor()\n",
        "\n",
        "data = [(\"Ладюша\", 18, 400), (\"Дилярушка\", 17, 500), (\"Лейладжон\", 14, 500), (\"Аделинаджон\", 16, 1000), (\"Элинушка\", 19, 500), (\"Анюша\", 15, 1000), (\"Эльзахон\", 17, 2000), (\"Амалишка\", 18, 1700), (\"Сонюша\", 16, 2540), (\"Каринушка\", 16, 1890), (\"Луизахон\", 18, 2570), (\"Настюша (Шеф)\", 14, 1698), (\"Иделиябону\", 19, 2578)]\n",
        "cursor.executemany(\"INSERT INTO people (name, age, salary) VALUES (?, ?, ?)\", data)\n",
        "\n",
        "con.commit()"
      ]
    }
  ],
  "metadata": {
    "colab": {
      "provenance": []
    },
    "kernelspec": {
      "display_name": "Python 3",
      "name": "python3"
    },
    "language_info": {
      "codemirror_mode": {
        "name": "ipython",
        "version": 3
      },
      "file_extension": ".py",
      "mimetype": "text/x-python",
      "name": "python",
      "nbconvert_exporter": "python",
      "pygments_lexer": "ipython3",
      "version": "3.9.7"
    }
  },
  "nbformat": 4,
  "nbformat_minor": 0
}
